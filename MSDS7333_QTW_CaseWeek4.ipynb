{
 "cells": [
  {
   "cell_type": "markdown",
   "metadata": {},
   "source": [
    "# MSDS7333 Case Study 2: Signal Frontier Analysis\n",
    "\n",
    "#### Team Members: Cory Nichols, Dennis Murray, Jared Law, Julien Bataillard\n",
    "\n"
   ]
  },
  {
   "cell_type": "markdown",
   "metadata": {},
   "source": [
    "<a id='abstract'></a>\n",
    "## 1 - Abstract\n",
    "\n",
    "This case study recreates the signal frontier analysis from [1] by exploring a \"simplified\" cross-sectional momentum portfolio. This strategy consists of picking high return stocks from the previous 3-12 months and getting rid of underperforming ones over the same time period, hence the momentum. These portfolios tend to perform well for the following 12 months at the most. The study applies to only 5 stocks (different from the textbook) from the fast food industry and the results are close to the example in terms of high rate of return and holding period values. "
   ]
  },
  {
   "cell_type": "markdown",
   "metadata": {},
   "source": [
    "<a id='introduction'></a>\n",
    "## 2 - Introduction\n",
    "\n",
    "\n",
    "\n"
   ]
  },
  {
   "cell_type": "code",
   "execution_count": 55,
   "metadata": {
    "collapsed": true
   },
   "outputs": [],
   "source": [
    "# Import required libraries / modules\n",
    "\n",
    "import datetime as dt\n",
    "import pandas as pd\n",
    "from pandas import Series, DataFrame\n",
    "from pandas_datareader import data as web\n",
    "from pandas_datareader.yahoo.daily import YahooDailyReader\n",
    "import numpy as np\n",
    "import matplotlib.pyplot as plt\n",
    "import seaborn as sns"
   ]
  },
  {
   "cell_type": "code",
   "execution_count": 56,
   "metadata": {},
   "outputs": [
    {
     "name": "stdout",
     "output_type": "stream",
     "text": [
      "pandas 0.22.0\n",
      "numpy 1.14.0\n",
      "seaborn 0.8.0\n",
      "matplotlib 2.1.2\n",
      "pandas_datareader 0.5.0\n"
     ]
    }
   ],
   "source": [
    "# check library versions\n",
    "\n",
    "print('pandas', pd.__version__)\n",
    "print('numpy', np.__version__)\n",
    "print('seaborn', sns.__version__)\n",
    "print('matplotlib', mpl.__version__)\n",
    "print('pandas_datareader', pdr.__version__)"
   ]
  },
  {
   "cell_type": "markdown",
   "metadata": {},
   "source": [
    "<a id=\"methods\"></a>\n",
    "## 3 - Methods"
   ]
  },
  {
   "cell_type": "code",
   "execution_count": 57,
   "metadata": {
    "collapsed": true
   },
   "outputs": [],
   "source": [
    "# set date range\n",
    "date_time_start = dt.datetime(2016, 1, 1)\n",
    "date_time_end = dt.datetime(2017, 6, 1)"
   ]
  },
  {
   "cell_type": "code",
   "execution_count": 58,
   "metadata": {
    "scrolled": true
   },
   "outputs": [
    {
     "name": "stdout",
     "output_type": "stream",
     "text": [
      "Unable to read stock: FRSH, trying again\n",
      "Unable to read stock: MCD, trying again\n"
     ]
    }
   ],
   "source": [
    "def get_portfolio():\n",
    "    ''' Get portfolio of stocks using buggy Yahoo'''\n",
    "    \n",
    "    port = pd.DataFrame()\n",
    "    names = ['DPZ', 'PZZA', 'YUM', 'FRSH', 'MCD', 'KHC', 'PLAY']\n",
    "    # Domino's, Papa John's, Yum Brands, Papa Murphy's, McDonalds, Kraft Heinz, Dave and Buster's\n",
    "    for stock in names:\n",
    "        while True:\n",
    "            try:\n",
    "                port[stock] = web.get_data_yahoo(stock, date_time_start, date_time_end)['Adj Close']\n",
    "                break\n",
    "            except:\n",
    "                print('Unable to read stock: {0}, trying again'.format(stock))\n",
    "    return port\n",
    "\n",
    "sp = get_portfolio()"
   ]
  },
  {
   "cell_type": "code",
   "execution_count": 59,
   "metadata": {},
   "outputs": [
    {
     "data": {
      "text/html": [
       "<div>\n",
       "<style scoped>\n",
       "    .dataframe tbody tr th:only-of-type {\n",
       "        vertical-align: middle;\n",
       "    }\n",
       "\n",
       "    .dataframe tbody tr th {\n",
       "        vertical-align: top;\n",
       "    }\n",
       "\n",
       "    .dataframe thead th {\n",
       "        text-align: right;\n",
       "    }\n",
       "</style>\n",
       "<table border=\"1\" class=\"dataframe\">\n",
       "  <thead>\n",
       "    <tr style=\"text-align: right;\">\n",
       "      <th></th>\n",
       "      <th>DPZ</th>\n",
       "      <th>PZZA</th>\n",
       "      <th>YUM</th>\n",
       "      <th>FRSH</th>\n",
       "      <th>MCD</th>\n",
       "      <th>KHC</th>\n",
       "      <th>PLAY</th>\n",
       "    </tr>\n",
       "    <tr>\n",
       "      <th>Date</th>\n",
       "      <th></th>\n",
       "      <th></th>\n",
       "      <th></th>\n",
       "      <th></th>\n",
       "      <th></th>\n",
       "      <th></th>\n",
       "      <th></th>\n",
       "    </tr>\n",
       "  </thead>\n",
       "  <tbody>\n",
       "    <tr>\n",
       "      <th>2016-01-04</th>\n",
       "      <td>107.016136</td>\n",
       "      <td>53.639576</td>\n",
       "      <td>49.635929</td>\n",
       "      <td>10.92</td>\n",
       "      <td>111.198700</td>\n",
       "      <td>68.692657</td>\n",
       "      <td>41.709999</td>\n",
       "    </tr>\n",
       "    <tr>\n",
       "      <th>2016-01-05</th>\n",
       "      <td>107.701935</td>\n",
       "      <td>53.414898</td>\n",
       "      <td>49.512199</td>\n",
       "      <td>10.77</td>\n",
       "      <td>112.730759</td>\n",
       "      <td>69.344627</td>\n",
       "      <td>41.889999</td>\n",
       "    </tr>\n",
       "    <tr>\n",
       "      <th>2016-01-06</th>\n",
       "      <td>107.545174</td>\n",
       "      <td>51.363480</td>\n",
       "      <td>49.161636</td>\n",
       "      <td>11.23</td>\n",
       "      <td>111.974197</td>\n",
       "      <td>69.476913</td>\n",
       "      <td>42.439999</td>\n",
       "    </tr>\n",
       "    <tr>\n",
       "      <th>2016-01-07</th>\n",
       "      <td>104.586395</td>\n",
       "      <td>49.546516</td>\n",
       "      <td>47.484421</td>\n",
       "      <td>10.71</td>\n",
       "      <td>109.382896</td>\n",
       "      <td>67.936745</td>\n",
       "      <td>41.209999</td>\n",
       "    </tr>\n",
       "    <tr>\n",
       "      <th>2016-01-08</th>\n",
       "      <td>106.761391</td>\n",
       "      <td>47.504875</td>\n",
       "      <td>46.838276</td>\n",
       "      <td>10.26</td>\n",
       "      <td>109.212654</td>\n",
       "      <td>67.256439</td>\n",
       "      <td>39.509998</td>\n",
       "    </tr>\n",
       "  </tbody>\n",
       "</table>\n",
       "</div>"
      ],
      "text/plain": [
       "                   DPZ       PZZA        YUM   FRSH         MCD        KHC  \\\n",
       "Date                                                                         \n",
       "2016-01-04  107.016136  53.639576  49.635929  10.92  111.198700  68.692657   \n",
       "2016-01-05  107.701935  53.414898  49.512199  10.77  112.730759  69.344627   \n",
       "2016-01-06  107.545174  51.363480  49.161636  11.23  111.974197  69.476913   \n",
       "2016-01-07  104.586395  49.546516  47.484421  10.71  109.382896  67.936745   \n",
       "2016-01-08  106.761391  47.504875  46.838276  10.26  109.212654  67.256439   \n",
       "\n",
       "                 PLAY  \n",
       "Date                   \n",
       "2016-01-04  41.709999  \n",
       "2016-01-05  41.889999  \n",
       "2016-01-06  42.439999  \n",
       "2016-01-07  41.209999  \n",
       "2016-01-08  39.509998  "
      ]
     },
     "execution_count": 59,
     "metadata": {},
     "output_type": "execute_result"
    }
   ],
   "source": [
    "# daily adjusted close prices for pizza portfolio\n",
    "sp.head()\n"
   ]
  },
  {
   "cell_type": "code",
   "execution_count": 60,
   "metadata": {},
   "outputs": [
    {
     "data": {
      "text/html": [
       "<div>\n",
       "<style scoped>\n",
       "    .dataframe tbody tr th:only-of-type {\n",
       "        vertical-align: middle;\n",
       "    }\n",
       "\n",
       "    .dataframe tbody tr th {\n",
       "        vertical-align: top;\n",
       "    }\n",
       "\n",
       "    .dataframe thead th {\n",
       "        text-align: right;\n",
       "    }\n",
       "</style>\n",
       "<table border=\"1\" class=\"dataframe\">\n",
       "  <thead>\n",
       "    <tr style=\"text-align: right;\">\n",
       "      <th></th>\n",
       "      <th>DPZ</th>\n",
       "      <th>PZZA</th>\n",
       "      <th>YUM</th>\n",
       "      <th>FRSH</th>\n",
       "      <th>MCD</th>\n",
       "      <th>KHC</th>\n",
       "      <th>PLAY</th>\n",
       "    </tr>\n",
       "  </thead>\n",
       "  <tbody>\n",
       "    <tr>\n",
       "      <th>count</th>\n",
       "      <td>357.000000</td>\n",
       "      <td>357.000000</td>\n",
       "      <td>357.000000</td>\n",
       "      <td>357.000000</td>\n",
       "      <td>357.000000</td>\n",
       "      <td>357.000000</td>\n",
       "      <td>357.000000</td>\n",
       "    </tr>\n",
       "    <tr>\n",
       "      <th>mean</th>\n",
       "      <td>150.081639</td>\n",
       "      <td>70.684679</td>\n",
       "      <td>60.116682</td>\n",
       "      <td>6.822717</td>\n",
       "      <td>119.307897</td>\n",
       "      <td>82.016308</td>\n",
       "      <td>47.435770</td>\n",
       "    </tr>\n",
       "    <tr>\n",
       "      <th>std</th>\n",
       "      <td>26.632106</td>\n",
       "      <td>12.199153</td>\n",
       "      <td>5.646775</td>\n",
       "      <td>2.500708</td>\n",
       "      <td>8.940297</td>\n",
       "      <td>6.572037</td>\n",
       "      <td>9.581822</td>\n",
       "    </tr>\n",
       "    <tr>\n",
       "      <th>min</th>\n",
       "      <td>102.048889</td>\n",
       "      <td>44.447296</td>\n",
       "      <td>45.143360</td>\n",
       "      <td>3.780000</td>\n",
       "      <td>106.960632</td>\n",
       "      <td>65.385567</td>\n",
       "      <td>31.080000</td>\n",
       "    </tr>\n",
       "    <tr>\n",
       "      <th>25%</th>\n",
       "      <td>128.977921</td>\n",
       "      <td>59.137615</td>\n",
       "      <td>56.927414</td>\n",
       "      <td>4.650000</td>\n",
       "      <td>112.730759</td>\n",
       "      <td>78.209389</td>\n",
       "      <td>39.470001</td>\n",
       "    </tr>\n",
       "    <tr>\n",
       "      <th>50%</th>\n",
       "      <td>148.811310</td>\n",
       "      <td>74.692879</td>\n",
       "      <td>61.966843</td>\n",
       "      <td>6.030000</td>\n",
       "      <td>117.558563</td>\n",
       "      <td>84.319641</td>\n",
       "      <td>45.330002</td>\n",
       "    </tr>\n",
       "    <tr>\n",
       "      <th>75%</th>\n",
       "      <td>169.237442</td>\n",
       "      <td>79.682266</td>\n",
       "      <td>63.460941</td>\n",
       "      <td>8.475000</td>\n",
       "      <td>122.494331</td>\n",
       "      <td>86.370911</td>\n",
       "      <td>56.189999</td>\n",
       "    </tr>\n",
       "    <tr>\n",
       "      <th>max</th>\n",
       "      <td>216.474655</td>\n",
       "      <td>88.525841</td>\n",
       "      <td>73.412682</td>\n",
       "      <td>12.810000</td>\n",
       "      <td>151.927551</td>\n",
       "      <td>93.931450</td>\n",
       "      <td>68.639999</td>\n",
       "    </tr>\n",
       "  </tbody>\n",
       "</table>\n",
       "</div>"
      ],
      "text/plain": [
       "              DPZ        PZZA         YUM        FRSH         MCD         KHC  \\\n",
       "count  357.000000  357.000000  357.000000  357.000000  357.000000  357.000000   \n",
       "mean   150.081639   70.684679   60.116682    6.822717  119.307897   82.016308   \n",
       "std     26.632106   12.199153    5.646775    2.500708    8.940297    6.572037   \n",
       "min    102.048889   44.447296   45.143360    3.780000  106.960632   65.385567   \n",
       "25%    128.977921   59.137615   56.927414    4.650000  112.730759   78.209389   \n",
       "50%    148.811310   74.692879   61.966843    6.030000  117.558563   84.319641   \n",
       "75%    169.237442   79.682266   63.460941    8.475000  122.494331   86.370911   \n",
       "max    216.474655   88.525841   73.412682   12.810000  151.927551   93.931450   \n",
       "\n",
       "             PLAY  \n",
       "count  357.000000  \n",
       "mean    47.435770  \n",
       "std      9.581822  \n",
       "min     31.080000  \n",
       "25%     39.470001  \n",
       "50%     45.330002  \n",
       "75%     56.189999  \n",
       "max     68.639999  "
      ]
     },
     "execution_count": 60,
     "metadata": {},
     "output_type": "execute_result"
    }
   ],
   "source": [
    "# pepperoni pizza?\n",
    "sp.describe()\n"
   ]
  },
  {
   "cell_type": "code",
   "execution_count": 61,
   "metadata": {
    "collapsed": true
   },
   "outputs": [],
   "source": [
    "# check linear relationships\n",
    "corr = sp.corr()\n",
    "mask = np.zeros_like(corr)\n",
    "mask[np.triu_indices_from(mask)] = True\n",
    "f, ax = plt.subplots(figsize=(11, 9))\n",
    "with sns.axes_style(\"white\"):\n",
    "    ax = sns.heatmap(corr, mask=mask, vmax=1, center=0, square=True, annot=True)"
   ]
  },
  {
   "cell_type": "code",
   "execution_count": 62,
   "metadata": {
    "scrolled": true
   },
   "outputs": [
    {
     "data": {
      "image/png": "[encoded data removed]",
      "text/plain": [
       "<matplotlib.figure.Figure at 0x1537ffd0>"
      ]
     },
     "metadata": {},
     "output_type": "display_data"
    },
    {
     "data": {
      "image/png": "[encoded data removed]",
      "text/plain": [
       "<matplotlib.figure.Figure at 0x19707898>"
      ]
     },
     "metadata": {},
     "output_type": "display_data"
    }
   ],
   "source": [
    "# transform to business day frequency and calculate percentage change\n",
    "# show cumulative returns over time period of business days\n",
    "sp = sp.asfreq('B').fillna(method='pad') # pad == ffill\n",
    "rets = sp.pct_change(1)\n",
    "((1+rets).cumprod()-1).plot()\n",
    "plt.show()\n",
    "# papa murphy's is hurtin'"
   ]
  },
  {
   "cell_type": "code",
   "execution_count": 63,
   "metadata": {
    "collapsed": true
   },
   "outputs": [],
   "source": [
    "# potential reference: https://www.investopedia.com/terms/m/momentum_investing.asp\n",
    "# compute momentum over a lookback and rank in descending order and standardize\n",
    "\n",
    "def calc_meanRev(price, lookback, lag):\n",
    "    '''Calculates pct change based on user input shift and lookback period, ranks, then standardized ranks'''\n",
    "    meanRev = price.shift(lag).pct_change(lookback) # price shift forward lag periods and calc % change at lookback\n",
    "    ranks = meanRev.rank(axis=1, ascending=False) # rank top \n",
    "    demeaned = ranks.subtract(ranks.mean(axis=1), axis=0)\n",
    "    return demeaned.divide(demeaned.std(axis=1), axis=0)"
   ]
  },
  {
   "cell_type": "code",
   "execution_count": 64,
   "metadata": {
    "collapsed": true
   },
   "outputs": [],
   "source": [
    "compound = lambda x : (1+x).prod()-1\n",
    "daily_sr = lambda x : x.mean() / x.std() # calculate mean portfolio return divided by std deviation\n",
    "# Sharpe Ratio is avg return above risk free rate \n",
    "# Subtracting the risk-free rate from the mean return, \n",
    "# the performance associated with risk-taking activities can be isolated.\n",
    "# > sharpe ratio = more attractive risk adjusted return\n",
    "# (https://www.investopedia.com/terms/s/sharperatio.asp)\n",
    "\n",
    "def strat_sr(prices, lb, hold):\n",
    "    '''prices = portfolio, lb = lookback, hold = holding period for portfolio (days between trading)'''\n",
    "    freq = '%dB' % hold # placeholder for holding period\n",
    "    port = calc_meanRev(prices, lb, lag=1) # get ranked and standardized momentum portfolio back\n",
    "    \n",
    "    daily_rets = prices.pct_change() # get daily returns\n",
    "    \n",
    "    port = port.shift(1).resample(freq).first() # shift portfolio and resample based on holding period\n",
    "                                                # take first value avail based on freq for the ranking\n",
    "    returns = daily_rets.resample(freq).apply(compound)  # results: mean returns over frequency grouped periods\n",
    "                                                         # compounded daily\n",
    "    port_rets = (port * returns).sum(axis=1)             # momentum portfolio returns, weighted\n",
    "    \n",
    "    return daily_sr(port_rets) * np.sqrt(252/hold)       # sharpe ratio (sans risk free rate here)\n",
    "                                                         # multiplied by compounded periods"
   ]
  },
  {
   "cell_type": "code",
   "execution_count": 65,
   "metadata": {},
   "outputs": [
    {
     "data": {
      "text/plain": [
       "-0.6871485159555324"
      ]
     },
     "execution_count": 65,
     "metadata": {},
     "output_type": "execute_result"
    }
   ],
   "source": [
    "strat_sr(sp, 70, 30)"
   ]
  },
  {
   "cell_type": "code",
   "execution_count": 66,
   "metadata": {
    "collapsed": true
   },
   "outputs": [],
   "source": [
    "from collections import defaultdict\n",
    "\n",
    "lookbacks = range(20, 90, 5)\n",
    "holdings = range(20, 90, 5)\n",
    "dd = defaultdict(dict)\n",
    "for lb in lookbacks:\n",
    "    for hold in holdings:\n",
    "        dd[lb][hold] = strat_sr(sp, lb, hold)\n",
    "        \n",
    "ddf = pd.DataFrame(dd)\n",
    "ddf.index.name = 'Holding Period'\n",
    "ddf.columns.name = 'Lookback Period'"
   ]
  },
  {
   "cell_type": "code",
   "execution_count": 67,
   "metadata": {
    "collapsed": true
   },
   "outputs": [],
   "source": [
    "\n",
    "def heatmap(df, cmap = plt.cm.gray_r):\n",
    "    fig = plt.figure()\n",
    "    ax = fig.add_subplot(111)\n",
    "    axim = ax.imshow(df.values, cmap = cmap, interpolation='nearest')\n",
    "    ax.set_xlabel(df.columns.name)\n",
    "    ax.set_xticks(np.arange(len(df.columns)))\n",
    "    ax.set_xticklabels(list(df.columns))\n",
    "    ax.set_ylabel(df.index.name)\n",
    "    ax.set_yticks(np.arange(len(df.index)))\n",
    "    ax.set_yticklabels(list(df.index))\n",
    "    plt.colorbar(axim)"
   ]
  },
  {
   "cell_type": "code",
   "execution_count": 68,
   "metadata": {},
   "outputs": [
    {
     "data": {
      "image/png": "[encoded data removed]",
      "text/plain": [
       "<matplotlib.figure.Figure at 0x19c3ad30>"
      ]
     },
     "metadata": {},
     "output_type": "display_data"
    }
   ],
   "source": [
    "heatmap(ddf)\n",
    "plt.show()"
   ]
  },
  {
   "cell_type": "markdown",
   "metadata": {
    "collapsed": true
   },
   "source": [
    "<a id=\"results\"></a>\n",
    "## 4 - Results"
   ]
  },
  {
   "cell_type": "markdown",
   "metadata": {},
   "source": [
    "<a id=\"conclusion\"></a>\n",
    "## 5 - Conclusion and future work"
   ]
  },
  {
   "cell_type": "markdown",
   "metadata": {},
   "source": [
    "<a id=\"conclusion\"></a>\n",
    "## 6 - References"
   ]
  },
  {
   "cell_type": "code",
   "execution_count": null,
   "metadata": {
    "collapsed": true
   },
   "outputs": [],
   "source": []
  }
 ],
 "metadata": {
  "anaconda-cloud": {},
  "kernelspec": {
   "display_name": "Python 3",
   "language": "python",
   "name": "python3"
  },
  "language_info": {
   "codemirror_mode": {
    "name": "ipython",
    "version": 3
   },
   "file_extension": ".py",
   "mimetype": "text/x-python",
   "name": "python",
   "nbconvert_exporter": "python",
   "pygments_lexer": "ipython3",
   "version": "3.6.3"
  }
 },
 "nbformat": 4,
 "nbformat_minor": 1
}
