{
 "cells": [
  {
   "cell_type": "markdown",
   "metadata": {},
   "source": [
    "# MSDS7333 Case Study 2: Signal Frontier Analysis\n",
    "## Calculating a Momentum Portfolio\n",
    "Julien Bataillard\n",
    "Jared Law\n",
    "Dennis Murray\n",
    "Cory Nichols"
   ]
  },
  {
   "cell_type": "markdown",
   "metadata": {},
   "source": [
    "# Abstract"
   ]
  },
  {
   "cell_type": "markdown",
   "metadata": {},
   "source": [
    "Signal processing techniques are extremely popular in equity and commodities trading strategies. Also called technical analysis, these signal processing methods disregard and often outperform fundamental valuation methods such as buying and selling securities based on a price to earnings ratio [1,2]. Instead, technical analysis uses historical data to make bets on the future of stock prices given key assumptions. We empirically analyze strategies for one technical analysis method: momentum investing, which uses a stock's trend over a certain lookback period to signal to the investor whether to buy or sell. We find that intermediate term momentum investing strategies result in the highest return.\n",
    "\n",
    "// Julien Intro\n",
    "\n",
    "We find many intermediate term combinations of holding and lookback periods outperform the S&P 500 over a time frame from January 1st, 2016 to June 1st, 2016. from [1] by exploring a \"simplified\" cross-sectional momentum portfolio. This strategy consists of picking high return stocks from the previous 3-12 months and getting rid of underperforming ones over the same time period, hence the momentum. These portfolios tend to perform well for the following 12 months at the most. The study applies to only 5 stocks (different from the textbook) from the fast food industry and the results are close to the example in terms of high rate of return and holding period values."
   ]
  },
  {
   "cell_type": "markdown",
   "metadata": {},
   "source": [
    "# Introduction"
   ]
  },
  {
   "cell_type": "markdown",
   "metadata": {},
   "source": [
    "Time series data is plentiful in finance. Equities are traded in nanoseconds based on market signals and automated analytics. Investment firms and hedge funds often employ engineers and other technically trained and educated individuals to apply signal processing methods to financial time series data. This practice has unearthed multitudes of algorithms and data analysis methods for trading equities all now considered \"technical analysis.\" These technical analysis methods are often run contrary to the idea of the efficient market hypothesis, which assumes that security prices reflect all available information.\n",
    "\n",
    "One such technical analysis method is momentum investing. At the heart of momentum investing is the assumption that signals are rarely completely random and have some degree of consistency of pattern [1]. Momentum investing also assumes that once a trend is established, the trend is likely to continue rather than revert. Investors applying a momentum strategy make bets on the future based on this trend, instead of the current stock price and fundamental analysis methods such as liquidity and price to earnings ratios. \n",
    "\n",
    "A momentum investor's goal is to capitalize on the continuance of existing trends in the market [3]. The two critical parameters of momentum investing are the lookback and holding periods. Typically, an investor will take a long position in an asset that is trending upward and a short position in an asset that is trending downward. The most basic and common tool to establish this trending component is to draw a line between two points on a time series and calculate a cumulative return:\n",
    "\n",
    "$$return = {t_2 - t_1\\over t_1}$$\n",
    "\n",
    "Where the difference between time two and time one is the lookback period. This lookback period can be many frequency types: daily, hourly, monthly or yearly. In this paper, we choose a business daily lookback frequency. This lookback period and associated return allow weighting of equities in a portfolio. For example, given a lookback period of 30 days, if two out of five stocks are trending downward (have a negative return), these stocks would be down weighted in the portfolio. If the remaining stocks have an increasing trend, these stocks would be upweighted in the portfolio. \n",
    "\n",
    "We then retain this mix of upweighted and downweighted stocks over a given \"holding period,\" capturing compound returns on our portfolio. This holding period can also take on any frequency, however, it should be consistent with the lookback period frequency.\n",
    "\n",
    "Based on the choice of lookback period, momentum investment strategies can be broken down into three different sub-stragies: short term, intermediate term and long term momentum. Short term momentum strategies utilize one month or less of a lookback period, while long term strategies typically utilize greater than three years. Both long and short term strategies have been empirically shown to experience significant reversion. Trends often change to the detriment of the investor [4]. However, intermediate term strategies, which use a lookback period of six to eighteen months show greater success, resulting in no reversals.[5]\n",
    "\n",
    "In our example, we use seven fast food equities to test various lookback and holding periods of a momentum investing strategy. \n",
    "\n",
    "Finish this part"
   ]
  },
  {
   "cell_type": "markdown",
   "metadata": {},
   "source": [
    "# Literature Review?"
   ]
  },
  {
   "cell_type": "markdown",
   "metadata": {},
   "source": [
    "# Methods"
   ]
  },
  {
   "cell_type": "markdown",
   "metadata": {},
   "source": [
    "# Results"
   ]
  },
  {
   "cell_type": "markdown",
   "metadata": {},
   "source": [
    "------\n",
    "------"
   ]
  },
  {
   "cell_type": "markdown",
   "metadata": {},
   "source": [
    "## Code Base (Dont Delete)"
   ]
  },
  {
   "cell_type": "code",
   "execution_count": 1,
   "metadata": {},
   "outputs": [],
   "source": [
    "import datetime as dt\n",
    "\n",
    "import pandas as pd\n",
    "from pandas import Series, DataFrame\n",
    "from pandas_datareader import data as web\n",
    "import numpy as np\n",
    "import matplotlib.pyplot as plt\n",
    "import seaborn as sns"
   ]
  },
  {
   "cell_type": "code",
   "execution_count": 2,
   "metadata": {},
   "outputs": [],
   "source": [
    "# set date range\n",
    "date_time_start = dt.datetime(2016, 1, 1)\n",
    "date_time_end = dt.datetime(2017, 6, 1)"
   ]
  },
  {
   "cell_type": "code",
   "execution_count": 3,
   "metadata": {},
   "outputs": [
    {
     "name": "stdout",
     "output_type": "stream",
     "text": [
      "Unable to read stock: FRSH, trying again\n",
      "Unable to read stock: FRSH, trying again\n"
     ]
    }
   ],
   "source": [
    "# add SPY (S&P 500 Index) to check for market correlations, comparisons for returns\n",
    "def get_portfolio():\n",
    "    ''' Get portfolio of stocks using buggy Yahoo'''\n",
    "    \n",
    "    port = pd.DataFrame()\n",
    "    names = ['DPZ', 'PZZA', 'YUM', 'FRSH', 'MCD', 'KHC', 'PLAY', 'SPY']\n",
    "    for stock in names:\n",
    "        while True:\n",
    "            try:\n",
    "                port[stock] = web.get_data_yahoo(stock, date_time_start, date_time_end)['Adj Close']\n",
    "                break\n",
    "            except:\n",
    "                print('Unable to read stock: {0}, trying again'.format(stock))\n",
    "    return port\n",
    "\n",
    "px = get_portfolio()\n",
    "px = px.loc[~(px==0).all(axis=1)] # strip out days with no trading data for all stocks"
   ]
  },
  {
   "cell_type": "code",
   "execution_count": 16,
   "metadata": {},
   "outputs": [
    {
     "data": {
      "text/html": [
       "<div>\n",
       "<style scoped>\n",
       "    .dataframe tbody tr th:only-of-type {\n",
       "        vertical-align: middle;\n",
       "    }\n",
       "\n",
       "    .dataframe tbody tr th {\n",
       "        vertical-align: top;\n",
       "    }\n",
       "\n",
       "    .dataframe thead th {\n",
       "        text-align: right;\n",
       "    }\n",
       "</style>\n",
       "<table border=\"1\" class=\"dataframe\">\n",
       "  <thead>\n",
       "    <tr style=\"text-align: right;\">\n",
       "      <th></th>\n",
       "      <th>DPZ</th>\n",
       "      <th>PZZA</th>\n",
       "      <th>YUM</th>\n",
       "      <th>FRSH</th>\n",
       "      <th>MCD</th>\n",
       "      <th>KHC</th>\n",
       "      <th>PLAY</th>\n",
       "      <th>SPY</th>\n",
       "    </tr>\n",
       "    <tr>\n",
       "      <th>Date</th>\n",
       "      <th></th>\n",
       "      <th></th>\n",
       "      <th></th>\n",
       "      <th></th>\n",
       "      <th></th>\n",
       "      <th></th>\n",
       "      <th></th>\n",
       "      <th></th>\n",
       "    </tr>\n",
       "  </thead>\n",
       "  <tbody>\n",
       "    <tr>\n",
       "      <th>2016-01-04</th>\n",
       "      <td>107.016136</td>\n",
       "      <td>53.639576</td>\n",
       "      <td>49.635929</td>\n",
       "      <td>10.92</td>\n",
       "      <td>111.198700</td>\n",
       "      <td>68.692657</td>\n",
       "      <td>41.709999</td>\n",
       "      <td>193.041077</td>\n",
       "    </tr>\n",
       "    <tr>\n",
       "      <th>2016-01-05</th>\n",
       "      <td>107.701935</td>\n",
       "      <td>53.414898</td>\n",
       "      <td>49.512199</td>\n",
       "      <td>10.77</td>\n",
       "      <td>112.730759</td>\n",
       "      <td>69.344627</td>\n",
       "      <td>41.889999</td>\n",
       "      <td>193.367584</td>\n",
       "    </tr>\n",
       "    <tr>\n",
       "      <th>2016-01-06</th>\n",
       "      <td>107.545174</td>\n",
       "      <td>51.363480</td>\n",
       "      <td>49.161636</td>\n",
       "      <td>11.23</td>\n",
       "      <td>111.974197</td>\n",
       "      <td>69.476913</td>\n",
       "      <td>42.439999</td>\n",
       "      <td>190.928375</td>\n",
       "    </tr>\n",
       "    <tr>\n",
       "      <th>2016-01-07</th>\n",
       "      <td>104.586395</td>\n",
       "      <td>49.546516</td>\n",
       "      <td>47.484421</td>\n",
       "      <td>10.71</td>\n",
       "      <td>109.382896</td>\n",
       "      <td>67.936745</td>\n",
       "      <td>41.209999</td>\n",
       "      <td>186.347717</td>\n",
       "    </tr>\n",
       "    <tr>\n",
       "      <th>2016-01-08</th>\n",
       "      <td>106.761391</td>\n",
       "      <td>47.504875</td>\n",
       "      <td>46.838276</td>\n",
       "      <td>10.26</td>\n",
       "      <td>109.212654</td>\n",
       "      <td>67.256439</td>\n",
       "      <td>39.509998</td>\n",
       "      <td>184.302277</td>\n",
       "    </tr>\n",
       "  </tbody>\n",
       "</table>\n",
       "</div>"
      ],
      "text/plain": [
       "                   DPZ       PZZA        YUM   FRSH         MCD        KHC  \\\n",
       "Date                                                                         \n",
       "2016-01-04  107.016136  53.639576  49.635929  10.92  111.198700  68.692657   \n",
       "2016-01-05  107.701935  53.414898  49.512199  10.77  112.730759  69.344627   \n",
       "2016-01-06  107.545174  51.363480  49.161636  11.23  111.974197  69.476913   \n",
       "2016-01-07  104.586395  49.546516  47.484421  10.71  109.382896  67.936745   \n",
       "2016-01-08  106.761391  47.504875  46.838276  10.26  109.212654  67.256439   \n",
       "\n",
       "                 PLAY         SPY  \n",
       "Date                               \n",
       "2016-01-04  41.709999  193.041077  \n",
       "2016-01-05  41.889999  193.367584  \n",
       "2016-01-06  42.439999  190.928375  \n",
       "2016-01-07  41.209999  186.347717  \n",
       "2016-01-08  39.509998  184.302277  "
      ]
     },
     "execution_count": 16,
     "metadata": {},
     "output_type": "execute_result"
    }
   ],
   "source": [
    "# daily adjusted close prices for pizza portfolio \n",
    "px.head()"
   ]
  },
  {
   "cell_type": "code",
   "execution_count": 17,
   "metadata": {},
   "outputs": [
    {
     "data": {
      "text/html": [
       "<div>\n",
       "<style scoped>\n",
       "    .dataframe tbody tr th:only-of-type {\n",
       "        vertical-align: middle;\n",
       "    }\n",
       "\n",
       "    .dataframe tbody tr th {\n",
       "        vertical-align: top;\n",
       "    }\n",
       "\n",
       "    .dataframe thead th {\n",
       "        text-align: right;\n",
       "    }\n",
       "</style>\n",
       "<table border=\"1\" class=\"dataframe\">\n",
       "  <thead>\n",
       "    <tr style=\"text-align: right;\">\n",
       "      <th></th>\n",
       "      <th>DPZ</th>\n",
       "      <th>PZZA</th>\n",
       "      <th>YUM</th>\n",
       "      <th>FRSH</th>\n",
       "      <th>MCD</th>\n",
       "      <th>KHC</th>\n",
       "      <th>PLAY</th>\n",
       "      <th>SPY</th>\n",
       "    </tr>\n",
       "  </thead>\n",
       "  <tbody>\n",
       "    <tr>\n",
       "      <th>count</th>\n",
       "      <td>370.000000</td>\n",
       "      <td>370.000000</td>\n",
       "      <td>370.000000</td>\n",
       "      <td>370.000000</td>\n",
       "      <td>370.000000</td>\n",
       "      <td>370.000000</td>\n",
       "      <td>370.000000</td>\n",
       "      <td>370.000000</td>\n",
       "    </tr>\n",
       "    <tr>\n",
       "      <th>mean</th>\n",
       "      <td>150.082993</td>\n",
       "      <td>70.734861</td>\n",
       "      <td>60.114691</td>\n",
       "      <td>6.806108</td>\n",
       "      <td>119.322900</td>\n",
       "      <td>82.018186</td>\n",
       "      <td>47.492946</td>\n",
       "      <td>211.112759</td>\n",
       "    </tr>\n",
       "    <tr>\n",
       "      <th>std</th>\n",
       "      <td>26.753015</td>\n",
       "      <td>12.272737</td>\n",
       "      <td>5.702535</td>\n",
       "      <td>2.493700</td>\n",
       "      <td>8.955579</td>\n",
       "      <td>6.643093</td>\n",
       "      <td>9.601552</td>\n",
       "      <td>15.933209</td>\n",
       "    </tr>\n",
       "    <tr>\n",
       "      <th>min</th>\n",
       "      <td>102.048889</td>\n",
       "      <td>44.447296</td>\n",
       "      <td>45.143360</td>\n",
       "      <td>3.780000</td>\n",
       "      <td>106.960632</td>\n",
       "      <td>65.385567</td>\n",
       "      <td>31.080000</td>\n",
       "      <td>175.601883</td>\n",
       "    </tr>\n",
       "    <tr>\n",
       "      <th>25%</th>\n",
       "      <td>128.926308</td>\n",
       "      <td>59.147450</td>\n",
       "      <td>56.932848</td>\n",
       "      <td>4.635000</td>\n",
       "      <td>112.730759</td>\n",
       "      <td>78.213539</td>\n",
       "      <td>39.432499</td>\n",
       "      <td>200.521839</td>\n",
       "    </tr>\n",
       "    <tr>\n",
       "      <th>50%</th>\n",
       "      <td>148.920975</td>\n",
       "      <td>74.697812</td>\n",
       "      <td>61.987823</td>\n",
       "      <td>6.010000</td>\n",
       "      <td>117.520340</td>\n",
       "      <td>84.378331</td>\n",
       "      <td>45.414999</td>\n",
       "      <td>210.376198</td>\n",
       "    </tr>\n",
       "    <tr>\n",
       "      <th>75%</th>\n",
       "      <td>169.158214</td>\n",
       "      <td>79.963510</td>\n",
       "      <td>63.475301</td>\n",
       "      <td>8.341250</td>\n",
       "      <td>122.467331</td>\n",
       "      <td>86.399870</td>\n",
       "      <td>56.204999</td>\n",
       "      <td>223.205604</td>\n",
       "    </tr>\n",
       "    <tr>\n",
       "      <th>max</th>\n",
       "      <td>216.474655</td>\n",
       "      <td>88.525841</td>\n",
       "      <td>73.412682</td>\n",
       "      <td>12.810000</td>\n",
       "      <td>151.927551</td>\n",
       "      <td>93.931450</td>\n",
       "      <td>68.639999</td>\n",
       "      <td>240.555542</td>\n",
       "    </tr>\n",
       "  </tbody>\n",
       "</table>\n",
       "</div>"
      ],
      "text/plain": [
       "              DPZ        PZZA         YUM        FRSH         MCD         KHC  \\\n",
       "count  370.000000  370.000000  370.000000  370.000000  370.000000  370.000000   \n",
       "mean   150.082993   70.734861   60.114691    6.806108  119.322900   82.018186   \n",
       "std     26.753015   12.272737    5.702535    2.493700    8.955579    6.643093   \n",
       "min    102.048889   44.447296   45.143360    3.780000  106.960632   65.385567   \n",
       "25%    128.926308   59.147450   56.932848    4.635000  112.730759   78.213539   \n",
       "50%    148.920975   74.697812   61.987823    6.010000  117.520340   84.378331   \n",
       "75%    169.158214   79.963510   63.475301    8.341250  122.467331   86.399870   \n",
       "max    216.474655   88.525841   73.412682   12.810000  151.927551   93.931450   \n",
       "\n",
       "             PLAY         SPY  \n",
       "count  370.000000  370.000000  \n",
       "mean    47.492946  211.112759  \n",
       "std      9.601552   15.933209  \n",
       "min     31.080000  175.601883  \n",
       "25%     39.432499  200.521839  \n",
       "50%     45.414999  210.376198  \n",
       "75%     56.204999  223.205604  \n",
       "max     68.639999  240.555542  "
      ]
     },
     "execution_count": 17,
     "metadata": {},
     "output_type": "execute_result"
    }
   ],
   "source": [
    "# pepperoni pizza?\n",
    "px.describe()"
   ]
  },
  {
   "cell_type": "code",
   "execution_count": 18,
   "metadata": {},
   "outputs": [
    {
     "data": {
      "image/png": "[encoded data removed]",
      "text/plain": [
       "<matplotlib.figure.Figure at 0x10974cda0>"
      ]
     },
     "metadata": {},
     "output_type": "display_data"
    }
   ],
   "source": [
    "# check linear relationships, including SP 500\n",
    "corr = px.corr()\n",
    "mask = np.zeros_like(corr)\n",
    "mask[np.triu_indices_from(mask)] = True\n",
    "f, ax = plt.subplots(figsize=(8, 8))\n",
    "with sns.axes_style(\"white\"):\n",
    "    ax = sns.heatmap(corr, mask=mask, vmax=1, center=0, square=True, annot=True)"
   ]
  },
  {
   "cell_type": "code",
   "execution_count": 19,
   "metadata": {},
   "outputs": [
    {
     "name": "stdout",
     "output_type": "stream",
     "text": [
      "Pizza Stocks mostly outperform SP 500 Greatly\n"
     ]
    },
    {
     "data": {
      "image/png": "[encoded data removed]",
      "text/plain": [
       "<matplotlib.figure.Figure at 0x11f987b70>"
      ]
     },
     "metadata": {},
     "output_type": "display_data"
    }
   ],
   "source": [
    "# transform to business day frequency and calculate percentage change\n",
    "# show cumulative returns over frequency of business days\n",
    "\n",
    "px = px.asfreq('B').fillna(method='pad') # pad == ffill\n",
    "rets = px.pct_change()\n",
    "print('Pizza Stocks mostly outperform SP 500 Greatly')\n",
    "((1+rets).cumprod()-1).plot()\n",
    "plt.show()"
   ]
  },
  {
   "cell_type": "code",
   "execution_count": 416,
   "metadata": {},
   "outputs": [],
   "source": [
    "# potential reference: https://www.investopedia.com/terms/m/momentum_investing.asp\n",
    "# compute momentum over a lookback and rank in ASCENDING order and standardize to get portfolio weights\n",
    "# base code is not momentum out of the box, it is mean reversion, we can change to momentum by changing asc to True\n",
    "# these form the weights for our portfolio and are based on standardized momentum ranks so we sum to 0 as part of\n",
    "# our portfolio\n",
    "# ascending = True - momentum\n",
    "# ascending = False - mean reversion\n",
    "\n",
    "def calc_mom(price, lookback, lag):\n",
    "    '''Calculates pct change based on user input shift and lookback period, ranks, then standardizes ranks'''\n",
    "    mom_ret = price.shift(lag).pct_change(lookback) # price shift forward lag periods (EOD) and calc % change based on\n",
    "                                                    # lookback cumulative return for each day in index\n",
    "    ranks = mom_ret.rank(axis=1, ascending=True)  # rank top performers for each day (ASCENDING = weight stocks with\n",
    "                                                  # positive trend greater - this is momentum)\n",
    "    demeaned = ranks.subtract(ranks.mean(axis=1), axis=0) # subtract the mean rank for the portfolio for each day\n",
    "    return demeaned.divide(demeaned.std(axis=1), axis=0) # divide by sd of the ranks for each day to standardize"
   ]
  },
  {
   "cell_type": "markdown",
   "metadata": {},
   "source": [
    "Now set up backtesting function to calculate a portfolio \n",
    "\n",
    "by iterating over lookbacks and holding period"
   ]
  },
  {
   "cell_type": "code",
   "execution_count": 450,
   "metadata": {},
   "outputs": [],
   "source": [
    "compound = lambda x : (1+x).prod()-1     # compound calc to give us compound returns for each holding period\n",
    "daily_sr = lambda x : x.mean() / x.std() # calculate mean portfolio return divided by std deviation to get sharpe\n",
    "\n",
    "# Sharpe Ratio is avg return above risk free rate \n",
    "# Subtracting the risk-free rate from the mean return, \n",
    "# the performance associated with risk-taking activities can be isolated.\n",
    "# > sharpe ratio = more attractive risk adjusted return\n",
    "# (https://www.investopedia.com/terms/s/sharperatio.asp)\n",
    "\n",
    "def strat_sr(prices, lb, hold):\n",
    "    # Compute portfolio weights using rank-standardized momentum portfolio\n",
    "    freq = '%dB' % hold # set up holding period\n",
    "    port = calc_mom(prices, lb, lag=1)\n",
    "\n",
    "    daily_rets = prices.pct_change()\n",
    "\n",
    "    # Compute portfolio returns\n",
    "    port = port.shift(1).resample(freq).first() # shift out weights to apply to next period returns, resample holding\n",
    "                                                # period and take first relevant value for weights\n",
    "    returns = daily_rets.resample(freq).apply(compound) # resample daily returns and calc compound returns for each\n",
    "                                                        # frequency bucket\n",
    "    port_rets = (port * returns).sum(axis=1)\n",
    "    return port_rets, daily_sr(port_rets) * np.sqrt(252 / hold) \n",
    "    \n",
    "    # THE ANSWER HAS BEEN REVEALED (regarding sharpe ratio scaling which is an annual value inherently)\n",
    "    # the scaling factor is an approximation,  \n",
    "    # Use K as a scaling factor to adjust for the cases when our data is sampled more frequently than annually\n",
    "    # https://augmentedtrader.com/2015/09/02/why-multiply-by-sqrt252-to-compute-the-sharpe-ratio/"
   ]
  },
  {
   "cell_type": "code",
   "execution_count": 451,
   "metadata": {},
   "outputs": [
    {
     "data": {
      "text/plain": [
       "5.801789305260302"
      ]
     },
     "execution_count": 451,
     "metadata": {},
     "output_type": "execute_result"
    }
   ],
   "source": [
    "strat_sr(px.iloc[:,:-1], 90, 140)[1]"
   ]
  },
  {
   "cell_type": "code",
   "execution_count": 452,
   "metadata": {},
   "outputs": [],
   "source": [
    "# sharpe ratio comparison setup\n",
    "from collections import defaultdict\n",
    "\n",
    "lookbacks = range(10, 210, 10)\n",
    "holdings = range(10, 210, 10)\n",
    "dd = defaultdict(dict)\n",
    "for lb in lookbacks:\n",
    "    for hold in holdings:\n",
    "        dd[lb][hold] = strat_sr(px.iloc[:,:-1], lb, hold)[1]\n",
    "        \n",
    "ddf = pd.DataFrame(dd)\n",
    "ddf.index.name = 'Holding Period'\n",
    "ddf.columns.name = 'Lookback Period'"
   ]
  },
  {
   "cell_type": "code",
   "execution_count": 453,
   "metadata": {},
   "outputs": [],
   "source": [
    "def heatmap(df, cmap = plt.cm.gray_r):\n",
    "    fig = plt.figure(figsize=(12,12))\n",
    "    ax = fig.add_subplot(111)\n",
    "    axim = ax.imshow(df.values, cmap = cmap, interpolation='nearest')\n",
    "    ax.set_xlabel(df.columns.name)\n",
    "    ax.set_xticks(np.arange(len(df.columns)))\n",
    "    ax.set_xticklabels(list(df.columns))\n",
    "    ax.set_ylabel(df.index.name)\n",
    "    ax.set_yticks(np.arange(len(df.index)))\n",
    "    ax.set_yticklabels(list(df.index))\n",
    "    plt.colorbar(axim)"
   ]
  },
  {
   "cell_type": "code",
   "execution_count": 454,
   "metadata": {},
   "outputs": [
    {
     "data": {
      "image/png": "[encoded data removed]",
      "text/plain": [
       "<matplotlib.figure.Figure at 0x121238a20>"
      ]
     },
     "metadata": {},
     "output_type": "display_data"
    }
   ],
   "source": [
    "heatmap(ddf)\n",
    "plt.show()"
   ]
  },
  {
   "cell_type": "code",
   "execution_count": 455,
   "metadata": {},
   "outputs": [
    {
     "data": {
      "image/png": "[encoded data removed]",
      "text/plain": [
       "<matplotlib.figure.Figure at 0x121041c88>"
      ]
     },
     "metadata": {},
     "output_type": "display_data"
    }
   ],
   "source": [
    "# a better viz\n",
    "df = ddf[ddf>1]\n",
    "mask = np.zeros_like(df)\n",
    "mask[np.triu_indices_from(mask)] = True\n",
    "f, ax = plt.subplots(figsize=(14, 12))\n",
    "with sns.axes_style(\"white\"):\n",
    "    ax = sns.heatmap(df, mask=mask, vmax=5, center=0, square=True, annot=True)"
   ]
  },
  {
   "cell_type": "markdown",
   "metadata": {},
   "source": [
    "# Scratch Work for more \"Context\""
   ]
  },
  {
   "cell_type": "code",
   "execution_count": 456,
   "metadata": {},
   "outputs": [
    {
     "data": {
      "text/plain": [
       "0.24613655154855385"
      ]
     },
     "execution_count": 456,
     "metadata": {},
     "output_type": "execute_result"
    }
   ],
   "source": [
    "# Calculate S&P cumulative return for same analysis period\n",
    "((1+px['SPY'].pct_change()).cumprod()-1).iloc[-1]"
   ]
  },
  {
   "cell_type": "code",
   "execution_count": 457,
   "metadata": {},
   "outputs": [
    {
     "data": {
      "text/plain": [
       "0.33516847450367726"
      ]
     },
     "execution_count": 457,
     "metadata": {},
     "output_type": "execute_result"
    }
   ],
   "source": [
    "# Calculate portfolio cumulative return approximation for same analysis period \n",
    "# w/equal weight (if we held from day 1 and did not trade momentum)\n",
    "\n",
    "wts = [.14275, .14275, .14275, .14275, .14275, .14275, .14275]\n",
    "(((1+px.iloc[:,:-1].pct_change()*wts).cumprod()-1).iloc[-1]).sum() # considering equal weighting"
   ]
  },
  {
   "cell_type": "markdown",
   "metadata": {},
   "source": [
    "### Annualized Check (should be roughly similar to returns above)"
   ]
  },
  {
   "cell_type": "code",
   "execution_count": 458,
   "metadata": {},
   "outputs": [
    {
     "data": {
      "text/plain": [
       "0.3273"
      ]
     },
     "execution_count": 458,
     "metadata": {},
     "output_type": "execute_result"
    }
   ],
   "source": [
    "# annualized returns for our portfolio\n",
    "wts = ([.14275, .14275, .14275, .14275, .14275, .14275, .14275])\n",
    "mean_daily_returns = px.iloc[:,:-1].pct_change().mean()\n",
    "portfolio_return = round(np.sum(mean_daily_returns * wts) * 370, 4)\n",
    "portfolio_return"
   ]
  },
  {
   "cell_type": "code",
   "execution_count": 459,
   "metadata": {},
   "outputs": [
    {
     "data": {
      "text/plain": [
       "0.2302"
      ]
     },
     "execution_count": 459,
     "metadata": {},
     "output_type": "execute_result"
    }
   ],
   "source": [
    "# annualized returns for S&P 500\n",
    "mean_daily_returns = px.iloc[:,-1].pct_change().mean()\n",
    "portfolio_return = round(np.sum(mean_daily_returns) * 370, 4)\n",
    "portfolio_return"
   ]
  },
  {
   "cell_type": "markdown",
   "metadata": {},
   "source": [
    "### Pizza portfolio dominates! Now for Sharpe ratio, take best case scenario from momentum investing:"
   ]
  },
  {
   "cell_type": "code",
   "execution_count": 460,
   "metadata": {},
   "outputs": [
    {
     "name": "stdout",
     "output_type": "stream",
     "text": [
      "5.6747900846309305\n"
     ]
    }
   ],
   "source": [
    "print(strat_sr(px.iloc[:,:-1], 90, 100)[1])"
   ]
  },
  {
   "cell_type": "code",
   "execution_count": 461,
   "metadata": {},
   "outputs": [
    {
     "name": "stdout",
     "output_type": "stream",
     "text": [
      "2.5238640171652356\n"
     ]
    }
   ],
   "source": [
    "# get S&P sharpe for same periods to compare apples to apples\n",
    "SP_holding = (px['SPY'].pct_change()).resample('100B').apply(compound)\n",
    "print(SP_holding.mean()/SP_holding.std()*np.sqrt(252 / 100))"
   ]
  },
  {
   "cell_type": "markdown",
   "metadata": {},
   "source": [
    "### Pizza Portfolio is unstoppable, now for returns with our momentum portfolio"
   ]
  },
  {
   "cell_type": "code",
   "execution_count": 462,
   "metadata": {},
   "outputs": [
    {
     "data": {
      "text/plain": [
       "0.24613655154855807"
      ]
     },
     "execution_count": 462,
     "metadata": {},
     "output_type": "execute_result"
    }
   ],
   "source": [
    "((1+SP_holding).cumprod()-1).iloc[-1]\n",
    "# this is equal to cum return on daily"
   ]
  },
  {
   "cell_type": "code",
   "execution_count": 463,
   "metadata": {},
   "outputs": [
    {
     "data": {
      "text/plain": [
       "5.2960146153426555"
      ]
     },
     "execution_count": 463,
     "metadata": {},
     "output_type": "execute_result"
    }
   ],
   "source": [
    "# ridiculous returns (this is ONE strategy, and returns variable)\n",
    "port_rets = strat_sr(px.iloc[:,:-1], 90, 100)[0]\n",
    "((1+port_rets).cumprod()-1).iloc[-1]"
   ]
  },
  {
   "cell_type": "code",
   "execution_count": 464,
   "metadata": {},
   "outputs": [
    {
     "data": {
      "text/plain": [
       "Date\n",
       "2016-01-04    0.129841\n",
       "2016-05-23    0.392600\n",
       "2016-10-10    0.723839\n",
       "2017-02-27    1.022823\n",
       "Name: DPZ, dtype: float64"
      ]
     },
     "execution_count": 464,
     "metadata": {},
     "output_type": "execute_result"
    }
   ],
   "source": [
    "DPZ_holding = px['DPZ'].pct_change().resample('100B').apply(compound)\n",
    "(1+DPZ_holding).cumprod()-1"
   ]
  },
  {
   "cell_type": "code",
   "execution_count": 465,
   "metadata": {},
   "outputs": [
    {
     "data": {
      "text/plain": [
       "-0.767662430992256"
      ]
     },
     "execution_count": 465,
     "metadata": {},
     "output_type": "execute_result"
    }
   ],
   "source": [
    "# check out this variability in returns, for a lookback of 30, HP of 10\n",
    "port_rets = strat_sr(px.iloc[:,:-1], 30, 10)[0]\n",
    "((1+port_rets).cumprod()-1).iloc[-1]"
   ]
  },
  {
   "cell_type": "markdown",
   "metadata": {},
   "source": [
    "### Take a look at the different Sharpe combinations"
   ]
  },
  {
   "cell_type": "code",
   "execution_count": 466,
   "metadata": {},
   "outputs": [
    {
     "data": {
      "text/html": [
       "<div>\n",
       "<style scoped>\n",
       "    .dataframe tbody tr th:only-of-type {\n",
       "        vertical-align: middle;\n",
       "    }\n",
       "\n",
       "    .dataframe tbody tr th {\n",
       "        vertical-align: top;\n",
       "    }\n",
       "\n",
       "    .dataframe thead th {\n",
       "        text-align: right;\n",
       "    }\n",
       "</style>\n",
       "<table border=\"1\" class=\"dataframe\">\n",
       "  <thead>\n",
       "    <tr style=\"text-align: right;\">\n",
       "      <th>Lookback Period</th>\n",
       "      <th>10</th>\n",
       "      <th>20</th>\n",
       "      <th>30</th>\n",
       "      <th>40</th>\n",
       "      <th>50</th>\n",
       "      <th>60</th>\n",
       "      <th>70</th>\n",
       "      <th>80</th>\n",
       "      <th>90</th>\n",
       "      <th>100</th>\n",
       "      <th>110</th>\n",
       "      <th>120</th>\n",
       "      <th>130</th>\n",
       "      <th>140</th>\n",
       "      <th>150</th>\n",
       "      <th>160</th>\n",
       "      <th>170</th>\n",
       "      <th>180</th>\n",
       "      <th>190</th>\n",
       "      <th>200</th>\n",
       "    </tr>\n",
       "    <tr>\n",
       "      <th>Holding Period</th>\n",
       "      <th></th>\n",
       "      <th></th>\n",
       "      <th></th>\n",
       "      <th></th>\n",
       "      <th></th>\n",
       "      <th></th>\n",
       "      <th></th>\n",
       "      <th></th>\n",
       "      <th></th>\n",
       "      <th></th>\n",
       "      <th></th>\n",
       "      <th></th>\n",
       "      <th></th>\n",
       "      <th></th>\n",
       "      <th></th>\n",
       "      <th></th>\n",
       "      <th></th>\n",
       "      <th></th>\n",
       "      <th></th>\n",
       "      <th></th>\n",
       "    </tr>\n",
       "  </thead>\n",
       "  <tbody>\n",
       "    <tr>\n",
       "      <th>30</th>\n",
       "      <td></td>\n",
       "      <td></td>\n",
       "      <td></td>\n",
       "      <td></td>\n",
       "      <td></td>\n",
       "      <td></td>\n",
       "      <td></td>\n",
       "      <td></td>\n",
       "      <td></td>\n",
       "      <td></td>\n",
       "      <td></td>\n",
       "      <td>1.19932</td>\n",
       "      <td>1.01414</td>\n",
       "      <td></td>\n",
       "      <td></td>\n",
       "      <td>1.02579</td>\n",
       "      <td></td>\n",
       "      <td></td>\n",
       "      <td></td>\n",
       "      <td></td>\n",
       "    </tr>\n",
       "    <tr>\n",
       "      <th>40</th>\n",
       "      <td></td>\n",
       "      <td></td>\n",
       "      <td></td>\n",
       "      <td></td>\n",
       "      <td></td>\n",
       "      <td></td>\n",
       "      <td>1.48589</td>\n",
       "      <td></td>\n",
       "      <td>1.60737</td>\n",
       "      <td>1.6851</td>\n",
       "      <td>1.51783</td>\n",
       "      <td>1.28488</td>\n",
       "      <td>1.23726</td>\n",
       "      <td>1.12624</td>\n",
       "      <td>1.36611</td>\n",
       "      <td>1.07669</td>\n",
       "      <td>1.00169</td>\n",
       "      <td></td>\n",
       "      <td>1.21477</td>\n",
       "      <td></td>\n",
       "    </tr>\n",
       "    <tr>\n",
       "      <th>50</th>\n",
       "      <td></td>\n",
       "      <td></td>\n",
       "      <td></td>\n",
       "      <td></td>\n",
       "      <td></td>\n",
       "      <td></td>\n",
       "      <td></td>\n",
       "      <td></td>\n",
       "      <td>2.08704</td>\n",
       "      <td>1.6452</td>\n",
       "      <td>1.68484</td>\n",
       "      <td>1.51129</td>\n",
       "      <td>1.21865</td>\n",
       "      <td>1.48661</td>\n",
       "      <td>1.00915</td>\n",
       "      <td>1.01537</td>\n",
       "      <td>1.18132</td>\n",
       "      <td></td>\n",
       "      <td>1.03057</td>\n",
       "      <td></td>\n",
       "    </tr>\n",
       "    <tr>\n",
       "      <th>60</th>\n",
       "      <td></td>\n",
       "      <td></td>\n",
       "      <td>2.27666</td>\n",
       "      <td>1.39307</td>\n",
       "      <td>1.64941</td>\n",
       "      <td></td>\n",
       "      <td></td>\n",
       "      <td></td>\n",
       "      <td>1.95672</td>\n",
       "      <td>1.81231</td>\n",
       "      <td>1.87996</td>\n",
       "      <td>1.54393</td>\n",
       "      <td>1.35389</td>\n",
       "      <td>1.13593</td>\n",
       "      <td>1.33914</td>\n",
       "      <td>1.23983</td>\n",
       "      <td>1.34981</td>\n",
       "      <td></td>\n",
       "      <td></td>\n",
       "      <td></td>\n",
       "    </tr>\n",
       "    <tr>\n",
       "      <th>70</th>\n",
       "      <td></td>\n",
       "      <td></td>\n",
       "      <td></td>\n",
       "      <td></td>\n",
       "      <td></td>\n",
       "      <td>2.3995</td>\n",
       "      <td></td>\n",
       "      <td></td>\n",
       "      <td>1.78078</td>\n",
       "      <td>1.19185</td>\n",
       "      <td>1.892</td>\n",
       "      <td>1.73541</td>\n",
       "      <td>1.33543</td>\n",
       "      <td>1.03601</td>\n",
       "      <td>1.14002</td>\n",
       "      <td>1.05475</td>\n",
       "      <td>1.05169</td>\n",
       "      <td>1.12639</td>\n",
       "      <td>1.02368</td>\n",
       "      <td></td>\n",
       "    </tr>\n",
       "    <tr>\n",
       "      <th>80</th>\n",
       "      <td>3.26872</td>\n",
       "      <td></td>\n",
       "      <td></td>\n",
       "      <td></td>\n",
       "      <td></td>\n",
       "      <td></td>\n",
       "      <td>1.99676</td>\n",
       "      <td></td>\n",
       "      <td>1.43593</td>\n",
       "      <td>1.15029</td>\n",
       "      <td>1.15668</td>\n",
       "      <td>1.12394</td>\n",
       "      <td>1.3192</td>\n",
       "      <td>1.38147</td>\n",
       "      <td>1.31592</td>\n",
       "      <td></td>\n",
       "      <td></td>\n",
       "      <td></td>\n",
       "      <td>1.22206</td>\n",
       "      <td></td>\n",
       "    </tr>\n",
       "    <tr>\n",
       "      <th>90</th>\n",
       "      <td></td>\n",
       "      <td></td>\n",
       "      <td>2.79821</td>\n",
       "      <td>1.62694</td>\n",
       "      <td>1.13199</td>\n",
       "      <td>1.73784</td>\n",
       "      <td>1.65013</td>\n",
       "      <td>1.5912</td>\n",
       "      <td>1.37592</td>\n",
       "      <td>1.27365</td>\n",
       "      <td>1.58485</td>\n",
       "      <td>1.29391</td>\n",
       "      <td></td>\n",
       "      <td></td>\n",
       "      <td>1.16406</td>\n",
       "      <td>1.12871</td>\n",
       "      <td>1.10876</td>\n",
       "      <td></td>\n",
       "      <td></td>\n",
       "      <td></td>\n",
       "    </tr>\n",
       "    <tr>\n",
       "      <th>100</th>\n",
       "      <td></td>\n",
       "      <td></td>\n",
       "      <td></td>\n",
       "      <td></td>\n",
       "      <td>1.63512</td>\n",
       "      <td>1.35223</td>\n",
       "      <td>1.12265</td>\n",
       "      <td>1.70745</td>\n",
       "      <td>5.67479</td>\n",
       "      <td>2.15634</td>\n",
       "      <td>2.15634</td>\n",
       "      <td>1.82377</td>\n",
       "      <td>1.72259</td>\n",
       "      <td>1.72563</td>\n",
       "      <td>1.39342</td>\n",
       "      <td>1.27437</td>\n",
       "      <td>1.70619</td>\n",
       "      <td>1.30363</td>\n",
       "      <td>1.47993</td>\n",
       "      <td>1.17355</td>\n",
       "    </tr>\n",
       "    <tr>\n",
       "      <th>120</th>\n",
       "      <td></td>\n",
       "      <td>1.38759</td>\n",
       "      <td>1.81401</td>\n",
       "      <td>1.21952</td>\n",
       "      <td>1.42753</td>\n",
       "      <td></td>\n",
       "      <td></td>\n",
       "      <td></td>\n",
       "      <td>1.26685</td>\n",
       "      <td>1.00166</td>\n",
       "      <td>1.02583</td>\n",
       "      <td></td>\n",
       "      <td></td>\n",
       "      <td></td>\n",
       "      <td></td>\n",
       "      <td></td>\n",
       "      <td></td>\n",
       "      <td></td>\n",
       "      <td></td>\n",
       "      <td></td>\n",
       "    </tr>\n",
       "    <tr>\n",
       "      <th>130</th>\n",
       "      <td></td>\n",
       "      <td></td>\n",
       "      <td>1.66548</td>\n",
       "      <td>1.03993</td>\n",
       "      <td>1.5364</td>\n",
       "      <td>1.6928</td>\n",
       "      <td></td>\n",
       "      <td></td>\n",
       "      <td>1.75019</td>\n",
       "      <td>1.73819</td>\n",
       "      <td>1.73921</td>\n",
       "      <td>1.41614</td>\n",
       "      <td></td>\n",
       "      <td></td>\n",
       "      <td></td>\n",
       "      <td></td>\n",
       "      <td></td>\n",
       "      <td></td>\n",
       "      <td></td>\n",
       "      <td></td>\n",
       "    </tr>\n",
       "    <tr>\n",
       "      <th>140</th>\n",
       "      <td></td>\n",
       "      <td>1.01978</td>\n",
       "      <td>1.60289</td>\n",
       "      <td>2.29234</td>\n",
       "      <td>2.40581</td>\n",
       "      <td>2.05794</td>\n",
       "      <td>1.28062</td>\n",
       "      <td></td>\n",
       "      <td>5.80179</td>\n",
       "      <td>2.62933</td>\n",
       "      <td>2.8997</td>\n",
       "      <td>2.81703</td>\n",
       "      <td>2.23384</td>\n",
       "      <td></td>\n",
       "      <td></td>\n",
       "      <td></td>\n",
       "      <td></td>\n",
       "      <td></td>\n",
       "      <td></td>\n",
       "      <td></td>\n",
       "    </tr>\n",
       "    <tr>\n",
       "      <th>150</th>\n",
       "      <td></td>\n",
       "      <td></td>\n",
       "      <td>1.93068</td>\n",
       "      <td>1.60319</td>\n",
       "      <td>1.82343</td>\n",
       "      <td>2.09139</td>\n",
       "      <td>2.08804</td>\n",
       "      <td>1.64019</td>\n",
       "      <td>3.80032</td>\n",
       "      <td>2.21989</td>\n",
       "      <td>2.03009</td>\n",
       "      <td>2.04316</td>\n",
       "      <td>2.02342</td>\n",
       "      <td>1.86806</td>\n",
       "      <td>1.05776</td>\n",
       "      <td></td>\n",
       "      <td>1.10782</td>\n",
       "      <td></td>\n",
       "      <td></td>\n",
       "      <td></td>\n",
       "    </tr>\n",
       "    <tr>\n",
       "      <th>160</th>\n",
       "      <td></td>\n",
       "      <td>1.1742</td>\n",
       "      <td>1.6865</td>\n",
       "      <td>1.35107</td>\n",
       "      <td>1.8061</td>\n",
       "      <td>1.86752</td>\n",
       "      <td>1.18812</td>\n",
       "      <td></td>\n",
       "      <td>1.35252</td>\n",
       "      <td>1.29616</td>\n",
       "      <td>1.37405</td>\n",
       "      <td>1.02957</td>\n",
       "      <td>1.37631</td>\n",
       "      <td>1.29599</td>\n",
       "      <td>1.12364</td>\n",
       "      <td></td>\n",
       "      <td></td>\n",
       "      <td></td>\n",
       "      <td>1.12062</td>\n",
       "      <td></td>\n",
       "    </tr>\n",
       "    <tr>\n",
       "      <th>170</th>\n",
       "      <td></td>\n",
       "      <td></td>\n",
       "      <td></td>\n",
       "      <td></td>\n",
       "      <td></td>\n",
       "      <td></td>\n",
       "      <td></td>\n",
       "      <td></td>\n",
       "      <td></td>\n",
       "      <td></td>\n",
       "      <td></td>\n",
       "      <td></td>\n",
       "      <td>1.11108</td>\n",
       "      <td>1.53019</td>\n",
       "      <td>1.43563</td>\n",
       "      <td>1.03385</td>\n",
       "      <td></td>\n",
       "      <td></td>\n",
       "      <td></td>\n",
       "      <td></td>\n",
       "    </tr>\n",
       "    <tr>\n",
       "      <th>180</th>\n",
       "      <td></td>\n",
       "      <td></td>\n",
       "      <td></td>\n",
       "      <td></td>\n",
       "      <td></td>\n",
       "      <td></td>\n",
       "      <td>1.49982</td>\n",
       "      <td></td>\n",
       "      <td>1.2069</td>\n",
       "      <td></td>\n",
       "      <td></td>\n",
       "      <td></td>\n",
       "      <td></td>\n",
       "      <td></td>\n",
       "      <td>1.22713</td>\n",
       "      <td>1.06624</td>\n",
       "      <td></td>\n",
       "      <td>1.29839</td>\n",
       "      <td></td>\n",
       "      <td></td>\n",
       "    </tr>\n",
       "    <tr>\n",
       "      <th>190</th>\n",
       "      <td></td>\n",
       "      <td></td>\n",
       "      <td></td>\n",
       "      <td></td>\n",
       "      <td></td>\n",
       "      <td></td>\n",
       "      <td></td>\n",
       "      <td>1.65945</td>\n",
       "      <td>1.45311</td>\n",
       "      <td>1.15736</td>\n",
       "      <td></td>\n",
       "      <td></td>\n",
       "      <td>1.0631</td>\n",
       "      <td></td>\n",
       "      <td></td>\n",
       "      <td>1.50868</td>\n",
       "      <td>1.50868</td>\n",
       "      <td>1.09394</td>\n",
       "      <td></td>\n",
       "      <td></td>\n",
       "    </tr>\n",
       "    <tr>\n",
       "      <th>200</th>\n",
       "      <td></td>\n",
       "      <td></td>\n",
       "      <td></td>\n",
       "      <td></td>\n",
       "      <td></td>\n",
       "      <td></td>\n",
       "      <td></td>\n",
       "      <td></td>\n",
       "      <td>2.22468</td>\n",
       "      <td>1.55413</td>\n",
       "      <td>1.55413</td>\n",
       "      <td></td>\n",
       "      <td></td>\n",
       "      <td>1.07045</td>\n",
       "      <td></td>\n",
       "      <td></td>\n",
       "      <td>1.68896</td>\n",
       "      <td>1.13461</td>\n",
       "      <td>1.12989</td>\n",
       "      <td></td>\n",
       "    </tr>\n",
       "  </tbody>\n",
       "</table>\n",
       "</div>"
      ],
      "text/plain": [
       "Lookback Period      10       20       30       40       50       60   \\\n",
       "Holding Period                                                          \n",
       "30                                                                      \n",
       "40                                                                      \n",
       "50                                                                      \n",
       "60                                 2.27666  1.39307  1.64941            \n",
       "70                                                             2.3995   \n",
       "80               3.26872                                                \n",
       "90                                 2.79821  1.62694  1.13199  1.73784   \n",
       "100                                                  1.63512  1.35223   \n",
       "120                       1.38759  1.81401  1.21952  1.42753            \n",
       "130                                1.66548  1.03993   1.5364   1.6928   \n",
       "140                       1.01978  1.60289  2.29234  2.40581  2.05794   \n",
       "150                                1.93068  1.60319  1.82343  2.09139   \n",
       "160                        1.1742   1.6865  1.35107   1.8061  1.86752   \n",
       "170                                                                     \n",
       "180                                                                     \n",
       "190                                                                     \n",
       "200                                                                     \n",
       "\n",
       "Lookback Period      70       80       90       100      110      120  \\\n",
       "Holding Period                                                          \n",
       "30                                                            1.19932   \n",
       "40               1.48589           1.60737   1.6851  1.51783  1.28488   \n",
       "50                                 2.08704   1.6452  1.68484  1.51129   \n",
       "60                                 1.95672  1.81231  1.87996  1.54393   \n",
       "70                                 1.78078  1.19185    1.892  1.73541   \n",
       "80               1.99676           1.43593  1.15029  1.15668  1.12394   \n",
       "90               1.65013   1.5912  1.37592  1.27365  1.58485  1.29391   \n",
       "100              1.12265  1.70745  5.67479  2.15634  2.15634  1.82377   \n",
       "120                                1.26685  1.00166  1.02583            \n",
       "130                                1.75019  1.73819  1.73921  1.41614   \n",
       "140              1.28062           5.80179  2.62933   2.8997  2.81703   \n",
       "150              2.08804  1.64019  3.80032  2.21989  2.03009  2.04316   \n",
       "160              1.18812           1.35252  1.29616  1.37405  1.02957   \n",
       "170                                                                     \n",
       "180              1.49982            1.2069                              \n",
       "190                       1.65945  1.45311  1.15736                     \n",
       "200                                2.22468  1.55413  1.55413            \n",
       "\n",
       "Lookback Period      130      140      150      160      170      180  \\\n",
       "Holding Period                                                          \n",
       "30               1.01414                    1.02579                     \n",
       "40               1.23726  1.12624  1.36611  1.07669  1.00169            \n",
       "50               1.21865  1.48661  1.00915  1.01537  1.18132            \n",
       "60               1.35389  1.13593  1.33914  1.23983  1.34981            \n",
       "70               1.33543  1.03601  1.14002  1.05475  1.05169  1.12639   \n",
       "80                1.3192  1.38147  1.31592                              \n",
       "90                                 1.16406  1.12871  1.10876            \n",
       "100              1.72259  1.72563  1.39342  1.27437  1.70619  1.30363   \n",
       "120                                                                     \n",
       "130                                                                     \n",
       "140              2.23384                                                \n",
       "150              2.02342  1.86806  1.05776           1.10782            \n",
       "160              1.37631  1.29599  1.12364                              \n",
       "170              1.11108  1.53019  1.43563  1.03385                     \n",
       "180                                1.22713  1.06624           1.29839   \n",
       "190               1.0631                    1.50868  1.50868  1.09394   \n",
       "200                       1.07045                    1.68896  1.13461   \n",
       "\n",
       "Lookback Period      190      200  \n",
       "Holding Period                     \n",
       "30                                 \n",
       "40               1.21477           \n",
       "50               1.03057           \n",
       "60                                 \n",
       "70               1.02368           \n",
       "80               1.22206           \n",
       "90                                 \n",
       "100              1.47993  1.17355  \n",
       "120                                \n",
       "130                                \n",
       "140                                \n",
       "150                                \n",
       "160              1.12062           \n",
       "170                                \n",
       "180                                \n",
       "190                                \n",
       "200              1.12989           "
      ]
     },
     "execution_count": 466,
     "metadata": {},
     "output_type": "execute_result"
    }
   ],
   "source": [
    "# what is greater than 1? risk free return >1 = good \n",
    "# https://www.investopedia.com/articles/07/sharpe_ratio.asp\n",
    "    \n",
    "ddf[ddf>1].dropna(how='all').fillna('').iloc[:,:]"
   ]
  },
  {
   "cell_type": "markdown",
   "metadata": {},
   "source": [
    "1. Moskowitz, T., Ooi, Yao, \"Time Series Momentum\"\n",
    "2. https://sites.tufts.edu/eeseniordesignhandbook/2015/signal-processing-in-finance/\n",
    "3. https://www.investopedia.com/terms/m/momentum_investing.asp\n",
    "4. (Jagdeesh, Narsimhan - Evidence of Predictable Behavior of Security Returns)\n",
    "5. Narasimhan Jegadeesh and Sheridan Titman “Returns to Buying Winners and Selling Losers: Implications for Stock Market Efficiency”"
   ]
  }
 ],
 "metadata": {
  "kernelspec": {
   "display_name": "Python 3",
   "language": "python",
   "name": "python3"
  },
  "language_info": {
   "codemirror_mode": {
    "name": "ipython",
    "version": 3
   },
   "file_extension": ".py",
   "mimetype": "text/x-python",
   "name": "python",
   "nbconvert_exporter": "python",
   "pygments_lexer": "ipython3",
   "version": "3.6.4"
  }
 },
 "nbformat": 4,
 "nbformat_minor": 2
}
