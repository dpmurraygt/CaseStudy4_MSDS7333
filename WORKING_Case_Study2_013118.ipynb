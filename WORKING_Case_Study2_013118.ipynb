{
 "cells": [
  {
   "cell_type": "markdown",
   "metadata": {},
   "source": [
    "# MSDS7333 Case Study 2: Signal Frontier Analysis\n",
    "## Calculating a Momentum Portfolio\n",
    "Julien Bataillard\n",
    "Jared Law\n",
    "Dennis Murray\n",
    "Cory Nichols"
   ]
  },
  {
   "cell_type": "code",
   "execution_count": 1,
   "metadata": {},
   "outputs": [],
   "source": [
    "import datetime as dt\n",
    "\n",
    "import pandas as pd\n",
    "from pandas import Series, DataFrame\n",
    "from pandas_datareader import data as web\n",
    "import numpy as np\n",
    "import matplotlib.pyplot as plt\n",
    "import seaborn as sns"
   ]
  },
  {
   "cell_type": "code",
   "execution_count": 2,
   "metadata": {},
   "outputs": [],
   "source": [
    "# set date range\n",
    "date_time_start = dt.datetime(2016, 1, 1)\n",
    "date_time_end = dt.datetime(2017, 6, 1)"
   ]
  },
  {
   "cell_type": "code",
   "execution_count": 3,
   "metadata": {},
   "outputs": [
    {
     "name": "stdout",
     "output_type": "stream",
     "text": [
      "Unable to read stock: FRSH, trying again\n",
      "Unable to read stock: MCD, trying again\n"
     ]
    }
   ],
   "source": [
    "def get_portfolio():\n",
    "    ''' Get portfolio of stocks using buggy Yahoo'''\n",
    "    \n",
    "    port = pd.DataFrame()\n",
    "    names = ['DPZ', 'PZZA', 'YUM', 'FRSH', 'MCD', 'KHC', 'PLAY']\n",
    "    for stock in names:\n",
    "        while True:\n",
    "            try:\n",
    "                port[stock] = web.get_data_yahoo(stock, date_time_start, date_time_end)['Adj Close']\n",
    "                break\n",
    "            except:\n",
    "                print('Unable to read stock: {0}, trying again'.format(stock))\n",
    "    return port\n",
    "\n",
    "px = get_portfolio()"
   ]
  },
  {
   "cell_type": "code",
   "execution_count": 4,
   "metadata": {},
   "outputs": [
    {
     "data": {
      "text/html": [
       "<div>\n",
       "<style scoped>\n",
       "    .dataframe tbody tr th:only-of-type {\n",
       "        vertical-align: middle;\n",
       "    }\n",
       "\n",
       "    .dataframe tbody tr th {\n",
       "        vertical-align: top;\n",
       "    }\n",
       "\n",
       "    .dataframe thead th {\n",
       "        text-align: right;\n",
       "    }\n",
       "</style>\n",
       "<table border=\"1\" class=\"dataframe\">\n",
       "  <thead>\n",
       "    <tr style=\"text-align: right;\">\n",
       "      <th></th>\n",
       "      <th>DPZ</th>\n",
       "      <th>PZZA</th>\n",
       "      <th>YUM</th>\n",
       "      <th>FRSH</th>\n",
       "      <th>MCD</th>\n",
       "      <th>KHC</th>\n",
       "      <th>PLAY</th>\n",
       "    </tr>\n",
       "    <tr>\n",
       "      <th>Date</th>\n",
       "      <th></th>\n",
       "      <th></th>\n",
       "      <th></th>\n",
       "      <th></th>\n",
       "      <th></th>\n",
       "      <th></th>\n",
       "      <th></th>\n",
       "    </tr>\n",
       "  </thead>\n",
       "  <tbody>\n",
       "    <tr>\n",
       "      <th>2016-01-04</th>\n",
       "      <td>107.016136</td>\n",
       "      <td>53.639576</td>\n",
       "      <td>49.635929</td>\n",
       "      <td>10.92</td>\n",
       "      <td>111.198700</td>\n",
       "      <td>68.692657</td>\n",
       "      <td>41.709999</td>\n",
       "    </tr>\n",
       "    <tr>\n",
       "      <th>2016-01-05</th>\n",
       "      <td>107.701935</td>\n",
       "      <td>53.414898</td>\n",
       "      <td>49.512199</td>\n",
       "      <td>10.77</td>\n",
       "      <td>112.730759</td>\n",
       "      <td>69.344627</td>\n",
       "      <td>41.889999</td>\n",
       "    </tr>\n",
       "    <tr>\n",
       "      <th>2016-01-06</th>\n",
       "      <td>107.545174</td>\n",
       "      <td>51.363480</td>\n",
       "      <td>49.161636</td>\n",
       "      <td>11.23</td>\n",
       "      <td>111.974197</td>\n",
       "      <td>69.476913</td>\n",
       "      <td>42.439999</td>\n",
       "    </tr>\n",
       "    <tr>\n",
       "      <th>2016-01-07</th>\n",
       "      <td>104.586395</td>\n",
       "      <td>49.546516</td>\n",
       "      <td>47.484421</td>\n",
       "      <td>10.71</td>\n",
       "      <td>109.382896</td>\n",
       "      <td>67.936745</td>\n",
       "      <td>41.209999</td>\n",
       "    </tr>\n",
       "    <tr>\n",
       "      <th>2016-01-08</th>\n",
       "      <td>106.761391</td>\n",
       "      <td>47.504875</td>\n",
       "      <td>46.838276</td>\n",
       "      <td>10.26</td>\n",
       "      <td>109.212654</td>\n",
       "      <td>67.256439</td>\n",
       "      <td>39.509998</td>\n",
       "    </tr>\n",
       "  </tbody>\n",
       "</table>\n",
       "</div>"
      ],
      "text/plain": [
       "                   DPZ       PZZA        YUM   FRSH         MCD        KHC  \\\n",
       "Date                                                                         \n",
       "2016-01-04  107.016136  53.639576  49.635929  10.92  111.198700  68.692657   \n",
       "2016-01-05  107.701935  53.414898  49.512199  10.77  112.730759  69.344627   \n",
       "2016-01-06  107.545174  51.363480  49.161636  11.23  111.974197  69.476913   \n",
       "2016-01-07  104.586395  49.546516  47.484421  10.71  109.382896  67.936745   \n",
       "2016-01-08  106.761391  47.504875  46.838276  10.26  109.212654  67.256439   \n",
       "\n",
       "                 PLAY  \n",
       "Date                   \n",
       "2016-01-04  41.709999  \n",
       "2016-01-05  41.889999  \n",
       "2016-01-06  42.439999  \n",
       "2016-01-07  41.209999  \n",
       "2016-01-08  39.509998  "
      ]
     },
     "execution_count": 4,
     "metadata": {},
     "output_type": "execute_result"
    }
   ],
   "source": [
    "# daily adjusted close prices for pizza portfolio \n",
    "px.head()"
   ]
  },
  {
   "cell_type": "code",
   "execution_count": 5,
   "metadata": {},
   "outputs": [
    {
     "data": {
      "text/html": [
       "<div>\n",
       "<style scoped>\n",
       "    .dataframe tbody tr th:only-of-type {\n",
       "        vertical-align: middle;\n",
       "    }\n",
       "\n",
       "    .dataframe tbody tr th {\n",
       "        vertical-align: top;\n",
       "    }\n",
       "\n",
       "    .dataframe thead th {\n",
       "        text-align: right;\n",
       "    }\n",
       "</style>\n",
       "<table border=\"1\" class=\"dataframe\">\n",
       "  <thead>\n",
       "    <tr style=\"text-align: right;\">\n",
       "      <th></th>\n",
       "      <th>DPZ</th>\n",
       "      <th>PZZA</th>\n",
       "      <th>YUM</th>\n",
       "      <th>FRSH</th>\n",
       "      <th>MCD</th>\n",
       "      <th>KHC</th>\n",
       "      <th>PLAY</th>\n",
       "    </tr>\n",
       "  </thead>\n",
       "  <tbody>\n",
       "    <tr>\n",
       "      <th>count</th>\n",
       "      <td>357.000000</td>\n",
       "      <td>357.000000</td>\n",
       "      <td>357.000000</td>\n",
       "      <td>357.000000</td>\n",
       "      <td>357.000000</td>\n",
       "      <td>357.000000</td>\n",
       "      <td>357.000000</td>\n",
       "    </tr>\n",
       "    <tr>\n",
       "      <th>mean</th>\n",
       "      <td>150.081639</td>\n",
       "      <td>70.684679</td>\n",
       "      <td>60.116682</td>\n",
       "      <td>6.822717</td>\n",
       "      <td>119.307897</td>\n",
       "      <td>82.016308</td>\n",
       "      <td>47.435770</td>\n",
       "    </tr>\n",
       "    <tr>\n",
       "      <th>std</th>\n",
       "      <td>26.632106</td>\n",
       "      <td>12.199153</td>\n",
       "      <td>5.646775</td>\n",
       "      <td>2.500708</td>\n",
       "      <td>8.940297</td>\n",
       "      <td>6.572037</td>\n",
       "      <td>9.581822</td>\n",
       "    </tr>\n",
       "    <tr>\n",
       "      <th>min</th>\n",
       "      <td>102.048889</td>\n",
       "      <td>44.447296</td>\n",
       "      <td>45.143360</td>\n",
       "      <td>3.780000</td>\n",
       "      <td>106.960632</td>\n",
       "      <td>65.385567</td>\n",
       "      <td>31.080000</td>\n",
       "    </tr>\n",
       "    <tr>\n",
       "      <th>25%</th>\n",
       "      <td>128.977921</td>\n",
       "      <td>59.137615</td>\n",
       "      <td>56.927414</td>\n",
       "      <td>4.650000</td>\n",
       "      <td>112.730759</td>\n",
       "      <td>78.209389</td>\n",
       "      <td>39.470001</td>\n",
       "    </tr>\n",
       "    <tr>\n",
       "      <th>50%</th>\n",
       "      <td>148.811310</td>\n",
       "      <td>74.692879</td>\n",
       "      <td>61.966843</td>\n",
       "      <td>6.030000</td>\n",
       "      <td>117.558563</td>\n",
       "      <td>84.319641</td>\n",
       "      <td>45.330002</td>\n",
       "    </tr>\n",
       "    <tr>\n",
       "      <th>75%</th>\n",
       "      <td>169.237442</td>\n",
       "      <td>79.682266</td>\n",
       "      <td>63.460941</td>\n",
       "      <td>8.475000</td>\n",
       "      <td>122.494331</td>\n",
       "      <td>86.370911</td>\n",
       "      <td>56.189999</td>\n",
       "    </tr>\n",
       "    <tr>\n",
       "      <th>max</th>\n",
       "      <td>216.474655</td>\n",
       "      <td>88.525841</td>\n",
       "      <td>73.412682</td>\n",
       "      <td>12.810000</td>\n",
       "      <td>151.927551</td>\n",
       "      <td>93.931450</td>\n",
       "      <td>68.639999</td>\n",
       "    </tr>\n",
       "  </tbody>\n",
       "</table>\n",
       "</div>"
      ],
      "text/plain": [
       "              DPZ        PZZA         YUM        FRSH         MCD         KHC  \\\n",
       "count  357.000000  357.000000  357.000000  357.000000  357.000000  357.000000   \n",
       "mean   150.081639   70.684679   60.116682    6.822717  119.307897   82.016308   \n",
       "std     26.632106   12.199153    5.646775    2.500708    8.940297    6.572037   \n",
       "min    102.048889   44.447296   45.143360    3.780000  106.960632   65.385567   \n",
       "25%    128.977921   59.137615   56.927414    4.650000  112.730759   78.209389   \n",
       "50%    148.811310   74.692879   61.966843    6.030000  117.558563   84.319641   \n",
       "75%    169.237442   79.682266   63.460941    8.475000  122.494331   86.370911   \n",
       "max    216.474655   88.525841   73.412682   12.810000  151.927551   93.931450   \n",
       "\n",
       "             PLAY  \n",
       "count  357.000000  \n",
       "mean    47.435770  \n",
       "std      9.581822  \n",
       "min     31.080000  \n",
       "25%     39.470001  \n",
       "50%     45.330002  \n",
       "75%     56.189999  \n",
       "max     68.639999  "
      ]
     },
     "execution_count": 5,
     "metadata": {},
     "output_type": "execute_result"
    }
   ],
   "source": [
    "# pepperoni pizza?\n",
    "px.describe()"
   ]
  },
  {
   "cell_type": "code",
   "execution_count": 7,
   "metadata": {},
   "outputs": [
    {
     "data": {
      "image/png": "[encoded data removed]",
      "text/plain": [
       "<matplotlib.figure.Figure at 0x10583b1d0>"
      ]
     },
     "metadata": {},
     "output_type": "display_data"
    }
   ],
   "source": [
    "# check linear relationships\n",
    "corr = px.corr()\n",
    "mask = np.zeros_like(corr)\n",
    "mask[np.triu_indices_from(mask)] = True\n",
    "f, ax = plt.subplots(figsize=(8, 8))\n",
    "with sns.axes_style(\"white\"):\n",
    "    ax = sns.heatmap(corr, mask=mask, vmax=1, center=0, square=True, annot=True)"
   ]
  },
  {
   "cell_type": "code",
   "execution_count": 146,
   "metadata": {},
   "outputs": [
    {
     "data": {
      "text/plain": [
       "<matplotlib.axes._subplots.AxesSubplot at 0x125926c88>"
      ]
     },
     "execution_count": 146,
     "metadata": {},
     "output_type": "execute_result"
    },
    {
     "data": {
      "image/png": "[encoded data removed]",
      "text/plain": [
       "<matplotlib.figure.Figure at 0x125986d68>"
      ]
     },
     "metadata": {},
     "output_type": "display_data"
    }
   ],
   "source": [
    "# transform to business day frequency and calculate percentage change\n",
    "# show cumulative returns over time period of business days\n",
    "px = px.asfreq('B').fillna(method='pad') # pad == ffill\n",
    "rets = px.pct_change() #default is one, business day return\n",
    "((1+rets).cumprod()-1).plot()"
   ]
  },
  {
   "cell_type": "code",
   "execution_count": 27,
   "metadata": {},
   "outputs": [],
   "source": [
    "# potential reference: https://www.investopedia.com/terms/m/momentum_investing.asp\n",
    "# compute momentum over a lookback and rank in descending order and standardize to get portfolio weights\n",
    "# this is not momentum out of the box. this is mean reversion, we can change to momentum by changing asc to Ture\n",
    "# these form the weights for our portfolio and are based on standardized momentum ranks so we sum to 0 as part of\n",
    "# our portfolio\n",
    "# ascending = True - momentum\n",
    "# ascending = False - mean reversion\n",
    "\n",
    "def calc_mom(price, lookback, lag):\n",
    "    '''Calculates pct change based on user input shift and lookback period, ranks, then standardizes ranks'''\n",
    "    mom_ret = price.shift(lag).pct_change(lookback) # price shift forward lag periods and calc % change based on\n",
    "                                                    # lookback cumulative return for each day in index\n",
    "    ranks = mom_ret.rank(axis=1, ascending=True) # rank top performers for each day (ASCENDING = MAXIMIZE STOCKS\n",
    "                                                  # WITH POSITIVE TREND)\n",
    "    demeaned = ranks.subtract(ranks.mean(axis=1), axis=0) # subtract the mean rank for the portfolio for each day\n",
    "    return demeaned.divide(demeaned.std(axis=1), axis=0) # divide by sd of the ranks for each day to standardize"
   ]
  },
  {
   "cell_type": "markdown",
   "metadata": {},
   "source": [
    "Now set up backtesting function to calculate a portfolio \n",
    "\n",
    "by iterating over lookbacks and holding period"
   ]
  },
  {
   "cell_type": "code",
   "execution_count": 45,
   "metadata": {},
   "outputs": [],
   "source": [
    "compound = lambda x : (1+x).prod()-1     # compound calc to give us compound returns for each holding period\n",
    "daily_sr = lambda x : x.mean() / x.std() # calculate mean portfolio return divided by std deviation to get sharpe\n",
    "\n",
    "# Sharpe Ratio is avg return above risk free rate \n",
    "# Subtracting the risk-free rate from the mean return, \n",
    "# the performance associated with risk-taking activities can be isolated.\n",
    "# > sharpe ratio = more attractive risk adjusted return\n",
    "# (https://www.investopedia.com/terms/s/sharperatio.asp)\n",
    "\n",
    "def strat_sr(prices, lb, hold):\n",
    "    # Compute portfolio weights using rank-standardized momentum portfolio\n",
    "    freq = '%dB' % hold\n",
    "    port = calc_mom(prices, lb, lag=1)\n",
    "\n",
    "    daily_rets = prices.pct_change()\n",
    "\n",
    "    # Compute portfolio returns\n",
    "    port = port.shift(1).resample(freq, how='first')\n",
    "    returns = daily_rets.resample(freq, how=compound)\n",
    "    port_rets = (port * returns).sum(axis=1)\n",
    "    return daily_sr(port_rets) * np.sqrt(252 / hold) \n",
    "    \n",
    "    # THE ANSWER HAS BEEN REVEALED (regarding sharpe ratio scaling which is an annual value inherently)\n",
    "    # the scaling factor is an approximation,  \n",
    "    # We use K as a scaling factor to adjust for the cases when our data is sampled more frequently than annually\n",
    "    # https://augmentedtrader.com/2015/09/02/why-multiply-by-sqrt252-to-compute-the-sharpe-ratio/"
   ]
  },
  {
   "cell_type": "code",
   "execution_count": 46,
   "metadata": {},
   "outputs": [
    {
     "name": "stderr",
     "output_type": "stream",
     "text": [
      "/Users/patrickcorynichols/anaconda/envs/py364/lib/python3.6/site-packages/ipykernel_launcher.py:18: FutureWarning: how in .resample() is deprecated\n",
      "the new syntax is .resample(...).first()\n",
      "/Users/patrickcorynichols/anaconda/envs/py364/lib/python3.6/site-packages/ipykernel_launcher.py:19: FutureWarning: how in .resample() is deprecated\n",
      "the new syntax is .resample(...)..apply(<func>)\n"
     ]
    },
    {
     "data": {
      "text/plain": [
       "Date\n",
       "2016-01-04    0.459871\n",
       "2016-02-01   -0.444506\n",
       "2016-02-29    0.017804\n",
       "2016-03-28   -0.259320\n",
       "2016-04-25   -0.606475\n",
       "2016-05-23    0.281177\n",
       "2016-06-20    0.015153\n",
       "2016-07-18    0.158552\n",
       "2016-08-15   -0.033380\n",
       "2016-09-12    0.211209\n",
       "2016-10-10    0.527768\n",
       "2016-11-07   -0.201297\n",
       "2016-12-05    0.031788\n",
       "2017-01-02   -0.086377\n",
       "2017-01-30    0.076000\n",
       "2017-02-27   -0.126448\n",
       "2017-03-27   -0.423910\n",
       "2017-04-24    0.195424\n",
       "2017-05-22    0.113607\n",
       "dtype: float64"
      ]
     },
     "execution_count": 46,
     "metadata": {},
     "output_type": "execute_result"
    }
   ],
   "source": [
    "strat_sr(px, 1, 20)"
   ]
  },
  {
   "cell_type": "code",
   "execution_count": 106,
   "metadata": {},
   "outputs": [],
   "source": [
    "from collections import defaultdict\n",
    "\n",
    "lookbacks = range(20, 90, 5)\n",
    "holdings = range(20, 90, 5)\n",
    "dd = defaultdict(dict)\n",
    "for lb in lookbacks:\n",
    "    for hold in holdings:\n",
    "        dd[lb][hold] = strat_sr(sp, lb, hold)\n",
    "        \n",
    "ddf = pd.DataFrame(dd)\n",
    "ddf.index.name = 'Holding Period'\n",
    "ddf.columns.name = 'Lookback Period'"
   ]
  },
  {
   "cell_type": "code",
   "execution_count": 107,
   "metadata": {},
   "outputs": [],
   "source": [
    "def heatmap(df, cmap = plt.cm.gray_r):\n",
    "    fig = plt.figure()\n",
    "    ax = fig.add_subplot(111)\n",
    "    axim = ax.imshow(df.values, cmap = cmap, interpolation='nearest')\n",
    "    ax.set_xlabel(df.columns.name)\n",
    "    ax.set_xticks(np.arange(len(df.columns)))\n",
    "    ax.set_xticklabels(list(df.columns))\n",
    "    ax.set_ylabel(df.index.name)\n",
    "    ax.set_yticks(np.arange(len(df.index)))\n",
    "    ax.set_yticklabels(list(df.index))\n",
    "    plt.colorbar(axim)"
   ]
  },
  {
   "cell_type": "code",
   "execution_count": 108,
   "metadata": {},
   "outputs": [
    {
     "data": {
      "image/png": "[encoded data removed]",
      "text/plain": [
       "<matplotlib.figure.Figure at 0x1250dab70>"
      ]
     },
     "metadata": {},
     "output_type": "display_data"
    }
   ],
   "source": [
    "heatmap(ddf)\n",
    "plt.show()"
   ]
  }
 ],
 "metadata": {
  "kernelspec": {
   "display_name": "Python 3",
   "language": "python",
   "name": "python3"
  },
  "language_info": {
   "codemirror_mode": {
    "name": "ipython",
    "version": 3
   },
   "file_extension": ".py",
   "mimetype": "text/x-python",
   "name": "python",
   "nbconvert_exporter": "python",
   "pygments_lexer": "ipython3",
   "version": "3.6.4"
  }
 },
 "nbformat": 4,
 "nbformat_minor": 2
}
